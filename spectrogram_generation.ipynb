{
 "cells": [
  {
   "cell_type": "code",
   "execution_count": 28,
   "metadata": {},
   "outputs": [],
   "source": [
    "import warnings\n",
    "warnings.filterwarnings(\"error\")\n",
    "\n",
    "import matplotlib.pyplot as plt\n",
    "import numpy as np\n",
    "import pandas as pd\n",
    "import os\n",
    "import pickle\n",
    "from librosa.feature import melspectrogram\n",
    "from librosa import power_to_db\n",
    "from librosa.display import specshow\n"
   ]
  },
  {
   "cell_type": "markdown",
   "metadata": {},
   "source": [
    "Define some constants"
   ]
  },
  {
   "cell_type": "code",
   "execution_count": 29,
   "metadata": {},
   "outputs": [],
   "source": [
    "# All EEG data is 100Hz sampling rate\n",
    "FS = 100\n",
    "\n",
    "# Length of spectrogram in seconds\n",
    "SPEC_LEN = 30\n",
    "\n",
    "# Define the data directory\n",
    "data_dir = r'C:\\Users\\devar\\Desktop\\ProjectPhase1\\lstm_cnn_eeg_sleep_staging\\data'\n",
    "\n",
    "# Define Mel Spectrogram parameters\n",
    "n_fft = 256\n",
    "hop_length = 64\n",
    "n_mels = 64\n"
   ]
  },
  {
   "cell_type": "markdown",
   "metadata": {},
   "source": [
    "Define a function to get the most frequent label within a 30-second block, if there are multiple labels. The most frequent label will apply to the entire block."
   ]
  },
  {
   "cell_type": "code",
   "execution_count": 30,
   "metadata": {},
   "outputs": [],
   "source": [
    "def get_most_frequent_label(labels):\n",
    "    unique_labels, label_counts = np.unique(labels, return_counts=True)\n",
    "    most_frequent_label = unique_labels[np.argmax(label_counts)]\n",
    "    return most_frequent_label\n"
   ]
  },
  {
   "cell_type": "markdown",
   "metadata": {},
   "source": [
    "Define a function to do the spectrogram calculations"
   ]
  },
  {
   "cell_type": "code",
   "execution_count": 31,
   "metadata": {},
   "outputs": [],
   "source": [
    "def calculate_spectrograms(pkl_files, data_group):\n",
    "    spectrogram_list = []\n",
    "    labels_list = []\n",
    "\n",
    "    for pkl_file in pkl_files:\n",
    "        df = pd.read_pickle(pkl_file)\n",
    "\n",
    "        spectrogram_list_tmp = []\n",
    "        labels_list_tmp = []\n",
    "\n",
    "        ind = 0\n",
    "        while ind < len(df):\n",
    "            df_tmp = df.iloc[ind:ind+FS*SPEC_LEN]\n",
    "            ch1_tmp = df_tmp['EEG Fpz-Cz'].values\n",
    "            ch2_tmp = df_tmp['EEG Pz-Oz'].values\n",
    "            label_tmp = get_most_frequent_label(df_tmp['label'].values)\n",
    "\n",
    "            try:\n",
    "                ch1_tmp = (ch1_tmp - np.mean(ch1_tmp)) / np.std(ch1_tmp)\n",
    "                ch2_tmp = (ch2_tmp - np.mean(ch2_tmp)) / np.std(ch2_tmp)\n",
    "            except Exception as e:\n",
    "                spectrogram_list_tmp = []\n",
    "                labels_list_tmp = []\n",
    "                ind = ind + FS*SPEC_LEN\n",
    "                continue\n",
    "\n",
    "            Sxx1 = melspectrogram(y=ch1_tmp, sr=FS, n_fft=n_fft, hop_length=hop_length, n_mels=n_mels)\n",
    "            Sxx1 = power_to_db(Sxx1, ref=np.max)\n",
    "\n",
    "            Sxx2 = melspectrogram(y=ch2_tmp, sr=FS, n_fft=n_fft, hop_length=hop_length, n_mels=n_mels)\n",
    "            Sxx2 = power_to_db(Sxx2, ref=np.max)\n",
    "\n",
    "            spectrogram_list_tmp.append((Sxx1, Sxx2))\n",
    "            labels_list_tmp.append(label_tmp)\n",
    "            ind = ind + FS*SPEC_LEN\n",
    "\n",
    "            if len(spectrogram_list_tmp) == 5:\n",
    "                if -1 not in labels_list_tmp:\n",
    "                    spectrogram_list.append(spectrogram_list_tmp)\n",
    "                    labels_list.append(labels_list_tmp)\n",
    "\n",
    "                spectrogram_list_tmp = []\n",
    "                labels_list_tmp = []\n",
    "\n",
    "    pickle.dump(spectrogram_list, open(f'X_{data_group}_spec.pkl', 'wb'))\n",
    "    pickle.dump(labels_list, open(f'y_{data_group}.pkl', 'wb'))\n"
   ]
  },
  {
   "cell_type": "markdown",
   "metadata": {},
   "source": [
    "Do the spectrogram calculations by train, test, and validation sets"
   ]
  },
  {
   "cell_type": "code",
   "execution_count": 34,
   "metadata": {
    "scrolled": false
   },
   "outputs": [
    {
     "name": "stderr",
     "output_type": "stream",
     "text": [
      "Exception ignored in: <_io.FileIO name='X_val_spec.pkl' mode='wb' closefd=True>\n",
      "Traceback (most recent call last):\n",
      "  File \"C:\\Users\\devar\\AppData\\Local\\Temp\\ipykernel_23288\\1723341290.py\", line 45, in calculate_spectrograms\n",
      "ResourceWarning: unclosed file <_io.BufferedWriter name='X_val_spec.pkl'>\n",
      "Exception ignored in: <_io.FileIO name='y_val.pkl' mode='wb' closefd=True>\n",
      "Traceback (most recent call last):\n",
      "  File \"C:\\Users\\devar\\AppData\\Local\\Temp\\ipykernel_23288\\1723341290.py\", line 46, in calculate_spectrograms\n",
      "ResourceWarning: unclosed file <_io.BufferedWriter name='y_val.pkl'>\n",
      "Exception ignored in: <_io.FileIO name='X_test_spec.pkl' mode='wb' closefd=True>\n",
      "Traceback (most recent call last):\n",
      "  File \"C:\\Users\\devar\\AppData\\Local\\Temp\\ipykernel_23288\\1723341290.py\", line 45, in calculate_spectrograms\n",
      "ResourceWarning: unclosed file <_io.BufferedWriter name='X_test_spec.pkl'>\n",
      "Exception ignored in: <_io.FileIO name='y_test.pkl' mode='wb' closefd=True>\n",
      "Traceback (most recent call last):\n",
      "  File \"C:\\Users\\devar\\AppData\\Local\\Temp\\ipykernel_23288\\1723341290.py\", line 46, in calculate_spectrograms\n",
      "ResourceWarning: unclosed file <_io.BufferedWriter name='y_test.pkl'>\n",
      "Exception ignored in: <_io.FileIO name='X_train_spec.pkl' mode='wb' closefd=True>\n",
      "Traceback (most recent call last):\n",
      "  File \"C:\\Users\\devar\\AppData\\Local\\Temp\\ipykernel_23288\\1723341290.py\", line 45, in calculate_spectrograms\n",
      "ResourceWarning: unclosed file <_io.BufferedWriter name='X_train_spec.pkl'>\n",
      "Exception ignored in: <_io.FileIO name='y_train.pkl' mode='wb' closefd=True>\n",
      "Traceback (most recent call last):\n",
      "  File \"C:\\Users\\devar\\AppData\\Local\\Temp\\ipykernel_23288\\1723341290.py\", line 46, in calculate_spectrograms\n",
      "ResourceWarning: unclosed file <_io.BufferedWriter name='y_train.pkl'>\n",
      "Exception ignored in: <_io.FileIO name='X_SC4211EC_spec.pkl' mode='wb' closefd=True>\n",
      "Traceback (most recent call last):\n",
      "  File \"C:\\Users\\devar\\AppData\\Local\\Temp\\ipykernel_23288\\1723341290.py\", line 45, in calculate_spectrograms\n",
      "ResourceWarning: unclosed file <_io.BufferedWriter name='X_SC4211EC_spec.pkl'>\n",
      "Exception ignored in: <_io.FileIO name='y_SC4211EC.pkl' mode='wb' closefd=True>\n",
      "Traceback (most recent call last):\n",
      "  File \"C:\\Users\\devar\\AppData\\Local\\Temp\\ipykernel_23288\\1723341290.py\", line 46, in calculate_spectrograms\n",
      "ResourceWarning: unclosed file <_io.BufferedWriter name='y_SC4211EC.pkl'>\n"
     ]
    }
   ],
   "source": [
    "pkl_files_val = [os.path.join(data_dir, 'SC4072EH.pkl'), os.path.join(data_dir, 'SC4481FV.pkl')]\n",
    "pkl_files_test = [os.path.join(data_dir, 'SC4181EC.pkl')]\n",
    "pkl_files_train = [\n",
    "    os.path.join(data_dir, 'ST7211JJ.pkl'),\n",
    "    os.path.join(data_dir, 'SC4091EC.pkl'),\n",
    "    os.path.join(data_dir, 'SC4341FA.pkl'),\n",
    "    os.path.join(data_dir, 'ST7051JA.pkl'),\n",
    "    os.path.join(data_dir, 'ST7181JR.pkl'),\n",
    "    os.path.join(data_dir, 'ST7011JP.pkl')\n",
    "]\n",
    "\n",
    "# Do spectrogram calculations\n",
    "calculate_spectrograms(pkl_files_val, 'val')\n",
    "calculate_spectrograms(pkl_files_test, 'test')\n",
    "calculate_spectrograms(pkl_files_train, 'train')\n",
    "calculate_spectrograms([os.path.join(data_dir, 'ST7152JA.pkl')], 'ST7152JA')\n"
   ]
  },
  {
   "cell_type": "markdown",
   "metadata": {},
   "source": []
  }
 ],
 "metadata": {
  "kernelspec": {
   "display_name": "Python 3",
   "language": "python",
   "name": "python3"
  },
  "language_info": {
   "codemirror_mode": {
    "name": "ipython",
    "version": 3
   },
   "file_extension": ".py",
   "mimetype": "text/x-python",
   "name": "python",
   "nbconvert_exporter": "python",
   "pygments_lexer": "ipython3",
   "version": "3.10.5"
  }
 },
 "nbformat": 4,
 "nbformat_minor": 4
}
